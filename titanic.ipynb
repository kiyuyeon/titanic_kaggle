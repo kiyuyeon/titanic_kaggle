{
 "cells": [
  {
   "cell_type": "code",
   "execution_count": 1,
   "id": "542a1582",
   "metadata": {
    "_cell_guid": "b1076dfc-b9ad-4769-8c92-a6c4dae69d19",
    "_uuid": "8f2839f25d086af736a60e9eeb907d3b93b6e0e5",
    "execution": {
     "iopub.execute_input": "2023-06-08T02:35:48.583491Z",
     "iopub.status.busy": "2023-06-08T02:35:48.583078Z",
     "iopub.status.idle": "2023-06-08T02:35:50.282849Z",
     "shell.execute_reply": "2023-06-08T02:35:50.281601Z"
    },
    "papermill": {
     "duration": 1.718228,
     "end_time": "2023-06-08T02:35:50.285576",
     "exception": false,
     "start_time": "2023-06-08T02:35:48.567348",
     "status": "completed"
    },
    "tags": []
   },
   "outputs": [
    {
     "name": "stdout",
     "output_type": "stream",
     "text": [
      "/kaggle/input/titanic/train.csv\n",
      "/kaggle/input/titanic/test.csv\n",
      "/kaggle/input/titanic/gender_submission.csv\n"
     ]
    }
   ],
   "source": [
    "import numpy as np # 선형 대수\n",
    "import pandas as pd # 데이터 처리\n",
    "import matplotlib.pyplot as plt # 시각화\n",
    "import seaborn as sns # 시각화\n",
    "import os # 현재 작업 경로를 얻는 함수\n",
    "import warnings # 경고 메시지 무시\n",
    "warnings.filterwarnings('ignore') # 경고 메시지 무시\n",
    "\n",
    "\n",
    "for dirname, _, filenames in os.walk('/kaggle/input'):\n",
    "    for filename in filenames:\n",
    "        print(os.path.join(dirname, filename))"
   ]
  },
  {
   "cell_type": "code",
   "execution_count": 2,
   "id": "b3a72ff6",
   "metadata": {
    "execution": {
     "iopub.execute_input": "2023-06-08T02:35:50.314169Z",
     "iopub.status.busy": "2023-06-08T02:35:50.313727Z",
     "iopub.status.idle": "2023-06-08T02:35:50.383206Z",
     "shell.execute_reply": "2023-06-08T02:35:50.381944Z"
    },
    "papermill": {
     "duration": 0.087402,
     "end_time": "2023-06-08T02:35:50.386496",
     "exception": false,
     "start_time": "2023-06-08T02:35:50.299094",
     "status": "completed"
    },
    "tags": []
   },
   "outputs": [
    {
     "name": "stdout",
     "output_type": "stream",
     "text": [
      "   PassengerId  Survived  Pclass  \\\n",
      "0            1         0       3   \n",
      "1            2         1       1   \n",
      "2            3         1       3   \n",
      "3            4         1       1   \n",
      "4            5         0       3   \n",
      "\n",
      "                                                Name     Sex   Age  SibSp  \\\n",
      "0                            Braund, Mr. Owen Harris    male  22.0      1   \n",
      "1  Cumings, Mrs. John Bradley (Florence Briggs Th...  female  38.0      1   \n",
      "2                             Heikkinen, Miss. Laina  female  26.0      0   \n",
      "3       Futrelle, Mrs. Jacques Heath (Lily May Peel)  female  35.0      1   \n",
      "4                           Allen, Mr. William Henry    male  35.0      0   \n",
      "\n",
      "   Parch            Ticket     Fare Cabin Embarked  \n",
      "0      0         A/5 21171   7.2500   NaN        S  \n",
      "1      0          PC 17599  71.2833   C85        C  \n",
      "2      0  STON/O2. 3101282   7.9250   NaN        S  \n",
      "3      0            113803  53.1000  C123        S  \n",
      "4      0            373450   8.0500   NaN        S  \n",
      "   PassengerId  Pclass                                          Name     Sex  \\\n",
      "0          892       3                              Kelly, Mr. James    male   \n",
      "1          893       3              Wilkes, Mrs. James (Ellen Needs)  female   \n",
      "2          894       2                     Myles, Mr. Thomas Francis    male   \n",
      "3          895       3                              Wirz, Mr. Albert    male   \n",
      "4          896       3  Hirvonen, Mrs. Alexander (Helga E Lindqvist)  female   \n",
      "\n",
      "    Age  SibSp  Parch   Ticket     Fare Cabin Embarked  \n",
      "0  34.5      0      0   330911   7.8292   NaN        Q  \n",
      "1  47.0      1      0   363272   7.0000   NaN        S  \n",
      "2  62.0      0      0   240276   9.6875   NaN        Q  \n",
      "3  27.0      0      0   315154   8.6625   NaN        S  \n",
      "4  22.0      1      1  3101298  12.2875   NaN        S  \n",
      "   PassengerId  Survived\n",
      "0          892         0\n",
      "1          893         1\n",
      "2          894         0\n",
      "3          895         0\n",
      "4          896         1\n"
     ]
    }
   ],
   "source": [
    "train = pd.read_csv('/kaggle/input/titanic/train.csv')\n",
    "test = pd.read_csv('/kaggle/input/titanic/test.csv')\n",
    "submission = pd.read_csv('/kaggle/input/titanic/gender_submission.csv')\n",
    "print(train.head())\n",
    "print(test.head())\n",
    "print(submission.head())"
   ]
  },
  {
   "cell_type": "code",
   "execution_count": 3,
   "id": "2d3f1cd1",
   "metadata": {
    "execution": {
     "iopub.execute_input": "2023-06-08T02:35:50.416564Z",
     "iopub.status.busy": "2023-06-08T02:35:50.416094Z",
     "iopub.status.idle": "2023-06-08T02:35:50.445883Z",
     "shell.execute_reply": "2023-06-08T02:35:50.444166Z"
    },
    "papermill": {
     "duration": 0.047663,
     "end_time": "2023-06-08T02:35:50.448774",
     "exception": false,
     "start_time": "2023-06-08T02:35:50.401111",
     "status": "completed"
    },
    "tags": []
   },
   "outputs": [
    {
     "name": "stdout",
     "output_type": "stream",
     "text": [
      "<class 'pandas.core.frame.DataFrame'>\n",
      "RangeIndex: 891 entries, 0 to 890\n",
      "Data columns (total 12 columns):\n",
      " #   Column       Non-Null Count  Dtype  \n",
      "---  ------       --------------  -----  \n",
      " 0   PassengerId  891 non-null    int64  \n",
      " 1   Survived     891 non-null    int64  \n",
      " 2   Pclass       891 non-null    int64  \n",
      " 3   Name         891 non-null    object \n",
      " 4   Sex          891 non-null    object \n",
      " 5   Age          714 non-null    float64\n",
      " 6   SibSp        891 non-null    int64  \n",
      " 7   Parch        891 non-null    int64  \n",
      " 8   Ticket       891 non-null    object \n",
      " 9   Fare         891 non-null    float64\n",
      " 10  Cabin        204 non-null    object \n",
      " 11  Embarked     889 non-null    object \n",
      "dtypes: float64(2), int64(5), object(5)\n",
      "memory usage: 83.7+ KB\n"
     ]
    }
   ],
   "source": [
    "train.info()"
   ]
  },
  {
   "cell_type": "code",
   "execution_count": 4,
   "id": "0ec62b55",
   "metadata": {
    "execution": {
     "iopub.execute_input": "2023-06-08T02:35:50.478513Z",
     "iopub.status.busy": "2023-06-08T02:35:50.477614Z",
     "iopub.status.idle": "2023-06-08T02:35:50.490592Z",
     "shell.execute_reply": "2023-06-08T02:35:50.489255Z"
    },
    "papermill": {
     "duration": 0.030469,
     "end_time": "2023-06-08T02:35:50.493184",
     "exception": false,
     "start_time": "2023-06-08T02:35:50.462715",
     "status": "completed"
    },
    "tags": []
   },
   "outputs": [
    {
     "name": "stdout",
     "output_type": "stream",
     "text": [
      "PassengerId      0\n",
      "Survived         0\n",
      "Pclass           0\n",
      "Name             0\n",
      "Sex              0\n",
      "Age            177\n",
      "SibSp            0\n",
      "Parch            0\n",
      "Ticket           0\n",
      "Fare             0\n",
      "Cabin          687\n",
      "Embarked         2\n",
      "dtype: int64\n",
      "PassengerId      0\n",
      "Pclass           0\n",
      "Name             0\n",
      "Sex              0\n",
      "Age             86\n",
      "SibSp            0\n",
      "Parch            0\n",
      "Ticket           0\n",
      "Fare             1\n",
      "Cabin          327\n",
      "Embarked         0\n",
      "dtype: int64\n"
     ]
    }
   ],
   "source": [
    "#결측치 확인하기\n",
    "print(train.isnull().sum())\n",
    "print(test.isnull().sum())"
   ]
  },
  {
   "cell_type": "code",
   "execution_count": 6,
   "id": "8517d741",
   "metadata": {
    "execution": {
     "iopub.execute_input": "2023-06-08T02:35:50.600843Z",
     "iopub.status.busy": "2023-06-08T02:35:50.600413Z",
     "iopub.status.idle": "2023-06-08T02:35:50.639034Z",
     "shell.execute_reply": "2023-06-08T02:35:50.637520Z"
    },
    "papermill": {
     "duration": 0.056198,
     "end_time": "2023-06-08T02:35:50.641594",
     "exception": false,
     "start_time": "2023-06-08T02:35:50.585396",
     "status": "completed"
    },
    "tags": []
   },
   "outputs": [
    {
     "data": {
      "text/html": [
       "<div>\n",
       "<style scoped>\n",
       "    .dataframe tbody tr th:only-of-type {\n",
       "        vertical-align: middle;\n",
       "    }\n",
       "\n",
       "    .dataframe tbody tr th {\n",
       "        vertical-align: top;\n",
       "    }\n",
       "\n",
       "    .dataframe thead th {\n",
       "        text-align: right;\n",
       "    }\n",
       "</style>\n",
       "<table border=\"1\" class=\"dataframe\">\n",
       "  <thead>\n",
       "    <tr style=\"text-align: right;\">\n",
       "      <th></th>\n",
       "      <th>PassengerId</th>\n",
       "      <th>Survived</th>\n",
       "      <th>Pclass</th>\n",
       "      <th>Age</th>\n",
       "      <th>SibSp</th>\n",
       "      <th>Parch</th>\n",
       "      <th>Fare</th>\n",
       "    </tr>\n",
       "  </thead>\n",
       "  <tbody>\n",
       "    <tr>\n",
       "      <th>count</th>\n",
       "      <td>891.000000</td>\n",
       "      <td>891.000000</td>\n",
       "      <td>891.000000</td>\n",
       "      <td>714.000000</td>\n",
       "      <td>891.000000</td>\n",
       "      <td>891.000000</td>\n",
       "      <td>891.000000</td>\n",
       "    </tr>\n",
       "    <tr>\n",
       "      <th>mean</th>\n",
       "      <td>446.000000</td>\n",
       "      <td>0.383838</td>\n",
       "      <td>2.308642</td>\n",
       "      <td>29.699118</td>\n",
       "      <td>0.523008</td>\n",
       "      <td>0.381594</td>\n",
       "      <td>32.204208</td>\n",
       "    </tr>\n",
       "    <tr>\n",
       "      <th>std</th>\n",
       "      <td>257.353842</td>\n",
       "      <td>0.486592</td>\n",
       "      <td>0.836071</td>\n",
       "      <td>14.526497</td>\n",
       "      <td>1.102743</td>\n",
       "      <td>0.806057</td>\n",
       "      <td>49.693429</td>\n",
       "    </tr>\n",
       "    <tr>\n",
       "      <th>min</th>\n",
       "      <td>1.000000</td>\n",
       "      <td>0.000000</td>\n",
       "      <td>1.000000</td>\n",
       "      <td>0.420000</td>\n",
       "      <td>0.000000</td>\n",
       "      <td>0.000000</td>\n",
       "      <td>0.000000</td>\n",
       "    </tr>\n",
       "    <tr>\n",
       "      <th>25%</th>\n",
       "      <td>223.500000</td>\n",
       "      <td>0.000000</td>\n",
       "      <td>2.000000</td>\n",
       "      <td>20.125000</td>\n",
       "      <td>0.000000</td>\n",
       "      <td>0.000000</td>\n",
       "      <td>7.910400</td>\n",
       "    </tr>\n",
       "    <tr>\n",
       "      <th>50%</th>\n",
       "      <td>446.000000</td>\n",
       "      <td>0.000000</td>\n",
       "      <td>3.000000</td>\n",
       "      <td>28.000000</td>\n",
       "      <td>0.000000</td>\n",
       "      <td>0.000000</td>\n",
       "      <td>14.454200</td>\n",
       "    </tr>\n",
       "    <tr>\n",
       "      <th>75%</th>\n",
       "      <td>668.500000</td>\n",
       "      <td>1.000000</td>\n",
       "      <td>3.000000</td>\n",
       "      <td>38.000000</td>\n",
       "      <td>1.000000</td>\n",
       "      <td>0.000000</td>\n",
       "      <td>31.000000</td>\n",
       "    </tr>\n",
       "    <tr>\n",
       "      <th>max</th>\n",
       "      <td>891.000000</td>\n",
       "      <td>1.000000</td>\n",
       "      <td>3.000000</td>\n",
       "      <td>80.000000</td>\n",
       "      <td>8.000000</td>\n",
       "      <td>6.000000</td>\n",
       "      <td>512.329200</td>\n",
       "    </tr>\n",
       "  </tbody>\n",
       "</table>\n",
       "</div>"
      ],
      "text/plain": [
       "       PassengerId    Survived      Pclass         Age       SibSp  \\\n",
       "count   891.000000  891.000000  891.000000  714.000000  891.000000   \n",
       "mean    446.000000    0.383838    2.308642   29.699118    0.523008   \n",
       "std     257.353842    0.486592    0.836071   14.526497    1.102743   \n",
       "min       1.000000    0.000000    1.000000    0.420000    0.000000   \n",
       "25%     223.500000    0.000000    2.000000   20.125000    0.000000   \n",
       "50%     446.000000    0.000000    3.000000   28.000000    0.000000   \n",
       "75%     668.500000    1.000000    3.000000   38.000000    1.000000   \n",
       "max     891.000000    1.000000    3.000000   80.000000    8.000000   \n",
       "\n",
       "            Parch        Fare  \n",
       "count  891.000000  891.000000  \n",
       "mean     0.381594   32.204208  \n",
       "std      0.806057   49.693429  \n",
       "min      0.000000    0.000000  \n",
       "25%      0.000000    7.910400  \n",
       "50%      0.000000   14.454200  \n",
       "75%      0.000000   31.000000  \n",
       "max      6.000000  512.329200  "
      ]
     },
     "execution_count": 6,
     "metadata": {},
     "output_type": "execute_result"
    }
   ],
   "source": [
    "train.describe()"
   ]
  },
  {
   "cell_type": "code",
   "execution_count": 7,
   "id": "d81fdf1d",
   "metadata": {
    "execution": {
     "iopub.execute_input": "2023-06-08T02:35:50.671947Z",
     "iopub.status.busy": "2023-06-08T02:35:50.671530Z",
     "iopub.status.idle": "2023-06-08T02:35:50.689884Z",
     "shell.execute_reply": "2023-06-08T02:35:50.688745Z"
    },
    "papermill": {
     "duration": 0.036771,
     "end_time": "2023-06-08T02:35:50.692436",
     "exception": false,
     "start_time": "2023-06-08T02:35:50.655665",
     "status": "completed"
    },
    "tags": []
   },
   "outputs": [
    {
     "data": {
      "text/html": [
       "<div>\n",
       "<style scoped>\n",
       "    .dataframe tbody tr th:only-of-type {\n",
       "        vertical-align: middle;\n",
       "    }\n",
       "\n",
       "    .dataframe tbody tr th {\n",
       "        vertical-align: top;\n",
       "    }\n",
       "\n",
       "    .dataframe thead th {\n",
       "        text-align: right;\n",
       "    }\n",
       "</style>\n",
       "<table border=\"1\" class=\"dataframe\">\n",
       "  <thead>\n",
       "    <tr style=\"text-align: right;\">\n",
       "      <th></th>\n",
       "      <th>Survived</th>\n",
       "      <th>count</th>\n",
       "    </tr>\n",
       "  </thead>\n",
       "  <tbody>\n",
       "    <tr>\n",
       "      <th>0</th>\n",
       "      <td>Dead</td>\n",
       "      <td>549</td>\n",
       "    </tr>\n",
       "    <tr>\n",
       "      <th>1</th>\n",
       "      <td>Alive</td>\n",
       "      <td>342</td>\n",
       "    </tr>\n",
       "  </tbody>\n",
       "</table>\n",
       "</div>"
      ],
      "text/plain": [
       "  Survived  count\n",
       "0     Dead    549\n",
       "1    Alive    342"
      ]
     },
     "execution_count": 7,
     "metadata": {},
     "output_type": "execute_result"
    }
   ],
   "source": [
    "# Survived' 열에서 각 값의 개수를 계산합니다. 이를 통해 '사망'과 '생존'의 개수를 확인할 수 있습니다.\n",
    "train['Survived'].value_counts()\n",
    "\n",
    "#'Survived' 열을 기준으로 데이터프레임을 그룹화하고 각 그룹의 크기를 계산합니다\n",
    "tmp_df = (train\n",
    "          .groupby('Survived')\n",
    "          .size()\n",
    "          .reset_index(name='count') # 결과를 데이터프레임으로 리셋하고, 새로운 열 이름을 'count'로 지정합니다.\n",
    "          .assign(Survived = lambda df: np.where(df['Survived']==0, 'Dead', 'Alive'))\n",
    "          )\n",
    "tmp_df\n"
   ]
  },
  {
   "cell_type": "code",
   "execution_count": null,
   "id": "88cdf3ef",
   "metadata": {
    "execution": {
     "iopub.execute_input": "2023-06-08T02:35:50.722616Z",
     "iopub.status.busy": "2023-06-08T02:35:50.721835Z",
     "iopub.status.idle": "2023-06-08T02:35:50.975020Z",
     "shell.execute_reply": "2023-06-08T02:35:50.973698Z"
    },
    "papermill": {
     "duration": 0.271445,
     "end_time": "2023-06-08T02:35:50.978009",
     "exception": false,
     "start_time": "2023-06-08T02:35:50.706564",
     "status": "completed"
    },
    "tags": []
   },
   "outputs": [
    {
     "data": {
      "image/png": "[encoded data removed]",
      "text/plain": [
       "<Figure size 640x480 with 1 Axes>"
      ]
     },
     "metadata": {},
     "output_type": "display_data"
    }
   ],
   "source": [
    "#생존자와 사장자 확인\n",
    "g = sns.barplot(data=tmp_df, x='Survived', y='count')\n",
    "g.bar_label(g.containers[0])\n",
    "plt.show()"
   ]
  },
  {
   "cell_type": "code",
   "execution_count": 9,
   "id": "b32a1472",
   "metadata": {
    "execution": {
     "iopub.execute_input": "2023-06-08T02:35:51.009582Z",
     "iopub.status.busy": "2023-06-08T02:35:51.008570Z",
     "iopub.status.idle": "2023-06-08T02:35:51.284715Z",
     "shell.execute_reply": "2023-06-08T02:35:51.283204Z"
    },
    "papermill": {
     "duration": 0.294918,
     "end_time": "2023-06-08T02:35:51.287620",
     "exception": false,
     "start_time": "2023-06-08T02:35:50.992702",
     "status": "completed"
    },
    "tags": []
   },
   "outputs": [
    {
     "data": {
      "image/png": "[encoded data removed]",
      "text/plain": [
       "<Figure size 640x480 with 1 Axes>"
      ]
     },
     "metadata": {},
     "output_type": "display_data"
    }
   ],
   "source": [
    "#성별을 기준으로 살아남은 사람\n",
    "ax = sns.countplot(data=train, x='Sex', hue='Survived')\n",
    "\n",
    "# countplot에 값 표시\n",
    "for p in ax.patches:\n",
    "    height = p.get_height()\n",
    "    ax.text(p.get_x() + p.get_width() / 2., height + 30, height, ha = 'center', size = 12)\n",
    "ax.set_ylim(0, 600)\n",
    "\n",
    "plt.show()"
   ]
  },
  {
   "cell_type": "code",
   "execution_count": 10,
   "id": "fc6fde88",
   "metadata": {
    "execution": {
     "iopub.execute_input": "2023-06-08T02:35:51.320719Z",
     "iopub.status.busy": "2023-06-08T02:35:51.319910Z",
     "iopub.status.idle": "2023-06-08T02:35:51.621327Z",
     "shell.execute_reply": "2023-06-08T02:35:51.620046Z"
    },
    "papermill": {
     "duration": 0.320798,
     "end_time": "2023-06-08T02:35:51.624003",
     "exception": false,
     "start_time": "2023-06-08T02:35:51.303205",
     "status": "completed"
    },
    "tags": []
   },
   "outputs": [
    {
     "data": {
      "image/png": "[encoded data removed]",
      "text/plain": [
       "<Figure size 640x480 with 1 Axes>"
      ]
     },
     "metadata": {},
     "output_type": "display_data"
    }
   ],
   "source": [
    "#pclas 객실 등급을 기준으로 생존률\n",
    "ax = sns.countplot(data=train, x='Pclass', hue='Survived')\n",
    "\n",
    "for p in ax.patches:\n",
    "    height = p.get_height()\n",
    "    ax.text(p.get_x() + p.get_width() / 2., height + 30, height, ha = 'center', size = 12)\n",
    "ax.set_ylim(0, 400)\n",
    "\n",
    "plt.show()"
   ]
  },
  {
   "cell_type": "code",
   "execution_count": 11,
   "id": "06992145",
   "metadata": {
    "execution": {
     "iopub.execute_input": "2023-06-08T02:35:51.658336Z",
     "iopub.status.busy": "2023-06-08T02:35:51.657922Z",
     "iopub.status.idle": "2023-06-08T02:35:51.884651Z",
     "shell.execute_reply": "2023-06-08T02:35:51.883314Z"
    },
    "papermill": {
     "duration": 0.246598,
     "end_time": "2023-06-08T02:35:51.887416",
     "exception": false,
     "start_time": "2023-06-08T02:35:51.640818",
     "status": "completed"
    },
    "tags": []
   },
   "outputs": [
    {
     "data": {
      "image/png": "[encoded data removed]",
      "text/plain": [
       "<Figure size 640x480 with 1 Axes>"
      ]
     },
     "metadata": {},
     "output_type": "display_data"
    }
   ],
   "source": [
    "# 남 여 기준으로 생존률\n",
    "ax = sns.countplot(data=train, x='Sex')\n",
    "\n",
    "for p in ax.patches:\n",
    "    height = p.get_height()\n",
    "    ax.text(p.get_x() + p.get_width() / 2., height + 30, height, ha = 'center', size = 12)\n",
    "ax.set_ylim(0, 700)\n",
    "\n",
    "plt.show()"
   ]
  },
  {
   "cell_type": "code",
   "execution_count": 12,
   "id": "4e43ac7b",
   "metadata": {
    "execution": {
     "iopub.execute_input": "2023-06-08T02:35:51.921098Z",
     "iopub.status.busy": "2023-06-08T02:35:51.920715Z",
     "iopub.status.idle": "2023-06-08T02:35:52.378790Z",
     "shell.execute_reply": "2023-06-08T02:35:52.377681Z"
    },
    "papermill": {
     "duration": 0.478208,
     "end_time": "2023-06-08T02:35:52.381715",
     "exception": false,
     "start_time": "2023-06-08T02:35:51.903507",
     "status": "completed"
    },
    "tags": []
   },
   "outputs": [
    {
     "data": {
      "text/plain": [
       "29.69911764705882"
      ]
     },
     "execution_count": 12,
     "metadata": {},
     "output_type": "execute_result"
    },
    {
     "data": {
      "image/png": "[encoded data removed]",
      "text/plain": [
       "<Figure size 640x480 with 1 Axes>"
      ]
     },
     "metadata": {},
     "output_type": "display_data"
    }
   ],
   "source": [
    "#나이의 평균값 과 나이 분포\n",
    "train['Age'].hist(bins=50)\n",
    "train['Age'].mean()"
   ]
  },
  {
   "cell_type": "code",
   "execution_count": 14,
   "id": "98990a92",
   "metadata": {
    "execution": {
     "iopub.execute_input": "2023-06-08T02:35:52.473983Z",
     "iopub.status.busy": "2023-06-08T02:35:52.473332Z",
     "iopub.status.idle": "2023-06-08T02:35:52.843081Z",
     "shell.execute_reply": "2023-06-08T02:35:52.841629Z"
    },
    "papermill": {
     "duration": 0.391039,
     "end_time": "2023-06-08T02:35:52.845999",
     "exception": false,
     "start_time": "2023-06-08T02:35:52.454960",
     "status": "completed"
    },
    "tags": []
   },
   "outputs": [
    {
     "data": {
      "text/plain": [
       "<seaborn.axisgrid.FacetGrid at 0x7d45dfa2c670>"
      ]
     },
     "execution_count": 14,
     "metadata": {},
     "output_type": "execute_result"
    },
    {
     "data": {
      "image/png": "[encoded data removed]",
      "text/plain": [
       "<Figure size 500x500 with 1 Axes>"
      ]
     },
     "metadata": {},
     "output_type": "display_data"
    }
   ],
   "source": [
    "# 객실 등급별 인원수 확인\n",
    "sns.catplot(x='Embarked',data=train,kind='count')"
   ]
  },
  {
   "cell_type": "code",
   "execution_count": 15,
   "id": "8005a81e",
   "metadata": {
    "execution": {
     "iopub.execute_input": "2023-06-08T02:35:52.882180Z",
     "iopub.status.busy": "2023-06-08T02:35:52.881760Z",
     "iopub.status.idle": "2023-06-08T02:35:52.889773Z",
     "shell.execute_reply": "2023-06-08T02:35:52.888700Z"
    },
    "papermill": {
     "duration": 0.028977,
     "end_time": "2023-06-08T02:35:52.892278",
     "exception": false,
     "start_time": "2023-06-08T02:35:52.863301",
     "status": "completed"
    },
    "tags": []
   },
   "outputs": [],
   "source": [
    "# 나이의 null 값을 평균을 기준으로 입력\n",
    "train[\"Age\"].fillna(train[\"Age\"].mean(), inplace = True)\n",
    "test[\"Age\"].fillna(test[\"Age\"].mean(), inplace = True)"
   ]
  },
  {
   "cell_type": "code",
   "execution_count": 16,
   "id": "a3257d21",
   "metadata": {
    "execution": {
     "iopub.execute_input": "2023-06-08T02:35:52.927775Z",
     "iopub.status.busy": "2023-06-08T02:35:52.927347Z",
     "iopub.status.idle": "2023-06-08T02:35:52.936540Z",
     "shell.execute_reply": "2023-06-08T02:35:52.935380Z"
    },
    "papermill": {
     "duration": 0.02977,
     "end_time": "2023-06-08T02:35:52.938968",
     "exception": false,
     "start_time": "2023-06-08T02:35:52.909198",
     "status": "completed"
    },
    "tags": []
   },
   "outputs": [
    {
     "data": {
      "text/plain": [
       "0"
      ]
     },
     "execution_count": 16,
     "metadata": {},
     "output_type": "execute_result"
    }
   ],
   "source": [
    "# 나이 null값 확인\n",
    "train[\"Age\"].isnull().sum()\n",
    "test[\"Age\"].isnull().sum()"
   ]
  },
  {
   "cell_type": "code",
   "execution_count": 17,
   "id": "9efe7df9",
   "metadata": {
    "execution": {
     "iopub.execute_input": "2023-06-08T02:35:52.976284Z",
     "iopub.status.busy": "2023-06-08T02:35:52.975884Z",
     "iopub.status.idle": "2023-06-08T02:35:52.986645Z",
     "shell.execute_reply": "2023-06-08T02:35:52.985301Z"
    },
    "papermill": {
     "duration": 0.032109,
     "end_time": "2023-06-08T02:35:52.989202",
     "exception": false,
     "start_time": "2023-06-08T02:35:52.957093",
     "status": "completed"
    },
    "tags": []
   },
   "outputs": [
    {
     "data": {
      "text/plain": [
       "S    644\n",
       "C    168\n",
       "Q     77\n",
       "Name: Embarked, dtype: int64"
      ]
     },
     "execution_count": 17,
     "metadata": {},
     "output_type": "execute_result"
    }
   ],
   "source": [
    "# 승선한 항 갯수 새기\n",
    "train[\"Embarked\"].value_counts().sort_values(ascending = False)"
   ]
  },
  {
   "cell_type": "code",
   "execution_count": 18,
   "id": "fda0f630",
   "metadata": {
    "execution": {
     "iopub.execute_input": "2023-06-08T02:35:53.025313Z",
     "iopub.status.busy": "2023-06-08T02:35:53.024929Z",
     "iopub.status.idle": "2023-06-08T02:35:53.031323Z",
     "shell.execute_reply": "2023-06-08T02:35:53.030182Z"
    },
    "papermill": {
     "duration": 0.027402,
     "end_time": "2023-06-08T02:35:53.033869",
     "exception": false,
     "start_time": "2023-06-08T02:35:53.006467",
     "status": "completed"
    },
    "tags": []
   },
   "outputs": [],
   "source": [
    "# null 값아 가장 많이 승선한 Southampton 값으로 입력\n",
    "train[\"Embarked\"].fillna(\"S\", inplace = True)"
   ]
  },
  {
   "cell_type": "code",
   "execution_count": 19,
   "id": "a9bf245f",
   "metadata": {
    "execution": {
     "iopub.execute_input": "2023-06-08T02:35:53.071346Z",
     "iopub.status.busy": "2023-06-08T02:35:53.070255Z",
     "iopub.status.idle": "2023-06-08T02:35:53.077345Z",
     "shell.execute_reply": "2023-06-08T02:35:53.076530Z"
    },
    "papermill": {
     "duration": 0.028759,
     "end_time": "2023-06-08T02:35:53.079775",
     "exception": false,
     "start_time": "2023-06-08T02:35:53.051016",
     "status": "completed"
    },
    "tags": []
   },
   "outputs": [
    {
     "data": {
      "text/plain": [
       "0"
      ]
     },
     "execution_count": 19,
     "metadata": {},
     "output_type": "execute_result"
    }
   ],
   "source": [
    "# Embarked null 값 개수 총합 확인\n",
    "train[\"Embarked\"].isnull().sum() "
   ]
  },
  {
   "cell_type": "code",
   "execution_count": 20,
   "id": "fab56d2a",
   "metadata": {
    "execution": {
     "iopub.execute_input": "2023-06-08T02:35:53.116650Z",
     "iopub.status.busy": "2023-06-08T02:35:53.116170Z",
     "iopub.status.idle": "2023-06-08T02:35:53.125509Z",
     "shell.execute_reply": "2023-06-08T02:35:53.124203Z"
    },
    "papermill": {
     "duration": 0.031294,
     "end_time": "2023-06-08T02:35:53.128433",
     "exception": false,
     "start_time": "2023-06-08T02:35:53.097139",
     "status": "completed"
    },
    "tags": []
   },
   "outputs": [],
   "source": [
    "train['Sex_clean'] = train['Sex'].astype('category').cat.codes\n",
    "test['Sex_clean'] = test['Sex'].astype('category').cat.codes"
   ]
  },
  {
   "cell_type": "code",
   "execution_count": 21,
   "id": "49d7bedf",
   "metadata": {
    "execution": {
     "iopub.execute_input": "2023-06-08T02:35:53.164756Z",
     "iopub.status.busy": "2023-06-08T02:35:53.164306Z",
     "iopub.status.idle": "2023-06-08T02:35:53.170605Z",
     "shell.execute_reply": "2023-06-08T02:35:53.169550Z"
    },
    "papermill": {
     "duration": 0.02738,
     "end_time": "2023-06-08T02:35:53.173144",
     "exception": false,
     "start_time": "2023-06-08T02:35:53.145764",
     "status": "completed"
    },
    "tags": []
   },
   "outputs": [],
   "source": [
    "#금액 평균 값으로 데이터 입력\n",
    "test[\"Fare\"].fillna(test[\"Fare\"].mean(), inplace = True)"
   ]
  },
  {
   "cell_type": "code",
   "execution_count": 22,
   "id": "bad25dbe",
   "metadata": {
    "execution": {
     "iopub.execute_input": "2023-06-08T02:35:53.210346Z",
     "iopub.status.busy": "2023-06-08T02:35:53.209909Z",
     "iopub.status.idle": "2023-06-08T02:35:53.223104Z",
     "shell.execute_reply": "2023-06-08T02:35:53.221815Z"
    },
    "papermill": {
     "duration": 0.03471,
     "end_time": "2023-06-08T02:35:53.225653",
     "exception": false,
     "start_time": "2023-06-08T02:35:53.190943",
     "status": "completed"
    },
    "tags": []
   },
   "outputs": [],
   "source": [
    "train['Embarked'].isnull().sum()\n",
    "# 2\n",
    "\n",
    "test['Embarked'].isnull().sum()\n",
    "# 0\n",
    "\n",
    "train['Embarked'].value_counts()\n",
    "# output\n",
    "# S    644\n",
    "# C    168\n",
    "# Q     77\n",
    "\n",
    "train['Embarked'].fillna('S', inplace=True)\n",
    "\n",
    "train['Embarked_clean'] = train['Embarked'].astype('category').cat.codes\n",
    "test['Embarked_clean'] = test['Embarked'].astype('category').cat.codes"
   ]
  },
  {
   "cell_type": "code",
   "execution_count": 23,
   "id": "4b9ade03",
   "metadata": {
    "execution": {
     "iopub.execute_input": "2023-06-08T02:35:53.262970Z",
     "iopub.status.busy": "2023-06-08T02:35:53.262547Z",
     "iopub.status.idle": "2023-06-08T02:35:53.270861Z",
     "shell.execute_reply": "2023-06-08T02:35:53.269479Z"
    },
    "papermill": {
     "duration": 0.030239,
     "end_time": "2023-06-08T02:35:53.273544",
     "exception": false,
     "start_time": "2023-06-08T02:35:53.243305",
     "status": "completed"
    },
    "tags": []
   },
   "outputs": [],
   "source": [
    "train['Family'] = 1 + train['SibSp'] + train['Parch']\n",
    "test['Family'] = 1 + test['SibSp'] + test['Parch']"
   ]
  },
  {
   "cell_type": "code",
   "execution_count": 24,
   "id": "89acbb46",
   "metadata": {
    "execution": {
     "iopub.execute_input": "2023-06-08T02:35:53.310711Z",
     "iopub.status.busy": "2023-06-08T02:35:53.310168Z",
     "iopub.status.idle": "2023-06-08T02:35:53.319634Z",
     "shell.execute_reply": "2023-06-08T02:35:53.318640Z"
    },
    "papermill": {
     "duration": 0.031133,
     "end_time": "2023-06-08T02:35:53.322271",
     "exception": false,
     "start_time": "2023-06-08T02:35:53.291138",
     "status": "completed"
    },
    "tags": []
   },
   "outputs": [],
   "source": [
    "train['Solo'] = (train['Family'] == 1)\n",
    "test['Solo'] = (test['Family'] == 1)"
   ]
  },
  {
   "cell_type": "code",
   "execution_count": 25,
   "id": "dc0c8e1a",
   "metadata": {
    "execution": {
     "iopub.execute_input": "2023-06-08T02:35:53.360185Z",
     "iopub.status.busy": "2023-06-08T02:35:53.359803Z",
     "iopub.status.idle": "2023-06-08T02:35:53.384889Z",
     "shell.execute_reply": "2023-06-08T02:35:53.384074Z"
    },
    "papermill": {
     "duration": 0.046579,
     "end_time": "2023-06-08T02:35:53.387339",
     "exception": false,
     "start_time": "2023-06-08T02:35:53.340760",
     "status": "completed"
    },
    "tags": []
   },
   "outputs": [
    {
     "data": {
      "text/plain": [
       "(7.854, 10.5]        184\n",
       "(21.679, 39.688]     180\n",
       "(-0.001, 7.854]      179\n",
       "(39.688, 512.329]    176\n",
       "(10.5, 21.679]       172\n",
       "Name: FareBin, dtype: int64"
      ]
     },
     "execution_count": 25,
     "metadata": {},
     "output_type": "execute_result"
    }
   ],
   "source": [
    "train['FareBin'] = pd.qcut(train['Fare'], 5)\n",
    "test['FareBin'] = pd.qcut(test['Fare'], 5)\n",
    "\n",
    "train['FareBin'].value_counts()"
   ]
  },
  {
   "cell_type": "code",
   "execution_count": 26,
   "id": "fc5bc59e",
   "metadata": {
    "execution": {
     "iopub.execute_input": "2023-06-08T02:35:53.425778Z",
     "iopub.status.busy": "2023-06-08T02:35:53.424623Z",
     "iopub.status.idle": "2023-06-08T02:35:53.437300Z",
     "shell.execute_reply": "2023-06-08T02:35:53.436199Z"
    },
    "papermill": {
     "duration": 0.034071,
     "end_time": "2023-06-08T02:35:53.439801",
     "exception": false,
     "start_time": "2023-06-08T02:35:53.405730",
     "status": "completed"
    },
    "tags": []
   },
   "outputs": [
    {
     "data": {
      "text/plain": [
       "1    184\n",
       "3    180\n",
       "0    179\n",
       "4    176\n",
       "2    172\n",
       "Name: Fare_clean, dtype: int64"
      ]
     },
     "execution_count": 26,
     "metadata": {},
     "output_type": "execute_result"
    }
   ],
   "source": [
    "train['Fare_clean'] = train['FareBin'].astype('category').cat.codes\n",
    "test['Fare_clean'] = test['FareBin'].astype('category').cat.codes\n",
    "\n",
    "train['Fare_clean'].value_counts()"
   ]
  },
  {
   "cell_type": "code",
   "execution_count": 30,
   "id": "bcac43ee",
   "metadata": {
    "execution": {
     "iopub.execute_input": "2023-06-08T02:35:53.643046Z",
     "iopub.status.busy": "2023-06-08T02:35:53.642411Z",
     "iopub.status.idle": "2023-06-08T02:35:53.649913Z",
     "shell.execute_reply": "2023-06-08T02:35:53.648901Z"
    },
    "papermill": {
     "duration": 0.029801,
     "end_time": "2023-06-08T02:35:53.652485",
     "exception": false,
     "start_time": "2023-06-08T02:35:53.622684",
     "status": "completed"
    },
    "tags": []
   },
   "outputs": [],
   "source": [
    "train['Title_clean'] = train['Title'].astype('category').cat.codes\n",
    "test['Title_clean'] = test['Title'].astype('category').cat.codes"
   ]
  },
  {
   "cell_type": "code",
   "execution_count": 31,
   "id": "3cdf2a4e",
   "metadata": {
    "execution": {
     "iopub.execute_input": "2023-06-08T02:35:53.694669Z",
     "iopub.status.busy": "2023-06-08T02:35:53.693572Z",
     "iopub.status.idle": "2023-06-08T02:35:53.707200Z",
     "shell.execute_reply": "2023-06-08T02:35:53.705977Z"
    },
    "papermill": {
     "duration": 0.038074,
     "end_time": "2023-06-08T02:35:53.710247",
     "exception": false,
     "start_time": "2023-06-08T02:35:53.672173",
     "status": "completed"
    },
    "tags": []
   },
   "outputs": [],
   "source": [
    "train['Age'].isnull().sum()\n",
    "# 177\n",
    "\n",
    "test['Age'].isnull().sum()\n",
    "# 86\n",
    "\n",
    "train[\"Age\"].fillna(train.groupby(\"Title\")[\"Age\"].transform(\"median\"), inplace=True)\n",
    "test[\"Age\"].fillna(test.groupby(\"Title\")[\"Age\"].transform(\"median\"), inplace=True)"
   ]
  },
  {
   "cell_type": "code",
   "execution_count": 32,
   "id": "7da4815c",
   "metadata": {
    "execution": {
     "iopub.execute_input": "2023-06-08T02:35:53.750195Z",
     "iopub.status.busy": "2023-06-08T02:35:53.749785Z",
     "iopub.status.idle": "2023-06-08T02:35:53.784752Z",
     "shell.execute_reply": "2023-06-08T02:35:53.783328Z"
    },
    "papermill": {
     "duration": 0.058097,
     "end_time": "2023-06-08T02:35:53.787659",
     "exception": false,
     "start_time": "2023-06-08T02:35:53.729562",
     "status": "completed"
    },
    "tags": []
   },
   "outputs": [],
   "source": [
    "# Train\n",
    "train.loc[ train['Age'] <= 10, 'Age_clean'] = 0\n",
    "train.loc[(train['Age'] > 10) & (train['Age'] <= 16), 'Age_clean'] = 1\n",
    "train.loc[(train['Age'] > 16) & (train['Age'] <= 20), 'Age_clean'] = 2\n",
    "train.loc[(train['Age'] > 20) & (train['Age'] <= 26), 'Age_clean'] = 3\n",
    "train.loc[(train['Age'] > 26) & (train['Age'] <= 30), 'Age_clean'] = 4\n",
    "train.loc[(train['Age'] > 30) & (train['Age'] <= 36), 'Age_clean'] = 5\n",
    "train.loc[(train['Age'] > 36) & (train['Age'] <= 40), 'Age_clean'] = 6\n",
    "train.loc[(train['Age'] > 40) & (train['Age'] <= 46), 'Age_clean'] = 7\n",
    "train.loc[(train['Age'] > 46) & (train['Age'] <= 50), 'Age_clean'] = 8\n",
    "train.loc[(train['Age'] > 50) & (train['Age'] <= 60), 'Age_clean'] = 9\n",
    "train.loc[ train['Age'] > 60, 'Age_clean'] = 10\n",
    "\n",
    "# Test\n",
    "test.loc[ test['Age'] <= 10, 'Age_clean'] = 0\n",
    "test.loc[(test['Age'] > 10) & (test['Age'] <= 16), 'Age_clean'] = 1\n",
    "test.loc[(test['Age'] > 16) & (test['Age'] <= 20), 'Age_clean'] = 2\n",
    "test.loc[(test['Age'] > 20) & (test['Age'] <= 26), 'Age_clean'] = 3\n",
    "test.loc[(test['Age'] > 26) & (test['Age'] <= 30), 'Age_clean'] = 4\n",
    "test.loc[(test['Age'] > 30) & (test['Age'] <= 36), 'Age_clean'] = 5\n",
    "test.loc[(test['Age'] > 36) & (test['Age'] <= 40), 'Age_clean'] = 6\n",
    "test.loc[(test['Age'] > 40) & (test['Age'] <= 46), 'Age_clean'] = 7\n",
    "test.loc[(test['Age'] > 46) & (test['Age'] <= 50), 'Age_clean'] = 8\n",
    "test.loc[(test['Age'] > 50) & (test['Age'] <= 60), 'Age_clean'] = 9\n",
    "test.loc[ test['Age'] > 60, 'Age_clean'] = 10"
   ]
  },
  {
   "cell_type": "code",
   "execution_count": 33,
   "id": "a3aebbff",
   "metadata": {
    "execution": {
     "iopub.execute_input": "2023-06-08T02:35:53.825987Z",
     "iopub.status.busy": "2023-06-08T02:35:53.825572Z",
     "iopub.status.idle": "2023-06-08T02:35:53.836934Z",
     "shell.execute_reply": "2023-06-08T02:35:53.835527Z"
    },
    "papermill": {
     "duration": 0.035344,
     "end_time": "2023-06-08T02:35:53.841178",
     "exception": false,
     "start_time": "2023-06-08T02:35:53.805834",
     "status": "completed"
    },
    "tags": []
   },
   "outputs": [
    {
     "data": {
      "text/plain": [
       "C    59\n",
       "B    47\n",
       "D    33\n",
       "E    32\n",
       "A    15\n",
       "F    13\n",
       "G     4\n",
       "T     1\n",
       "Name: Cabin, dtype: int64"
      ]
     },
     "execution_count": 33,
     "metadata": {},
     "output_type": "execute_result"
    }
   ],
   "source": [
    "train['Cabin'].str[:1].value_counts()\n"
   ]
  },
  {
   "cell_type": "code",
   "execution_count": 34,
   "id": "4bae5312",
   "metadata": {
    "execution": {
     "iopub.execute_input": "2023-06-08T02:35:53.881147Z",
     "iopub.status.busy": "2023-06-08T02:35:53.880767Z",
     "iopub.status.idle": "2023-06-08T02:35:53.901932Z",
     "shell.execute_reply": "2023-06-08T02:35:53.900876Z"
    },
    "papermill": {
     "duration": 0.043283,
     "end_time": "2023-06-08T02:35:53.904352",
     "exception": false,
     "start_time": "2023-06-08T02:35:53.861069",
     "status": "completed"
    },
    "tags": []
   },
   "outputs": [
    {
     "data": {
      "text/plain": [
       "5.0    491\n",
       "2.0    216\n",
       "4.5    184\n",
       "Name: Cabin_clean, dtype: int64"
      ]
     },
     "execution_count": 34,
     "metadata": {},
     "output_type": "execute_result"
    }
   ],
   "source": [
    "mapping = {\n",
    "    'A': 0,\n",
    "    'B': 1,\n",
    "    'C': 2,\n",
    "    'D': 3,\n",
    "    'E': 4,\n",
    "    'F': 5,\n",
    "    'G': 6,\n",
    "    'T': 7\n",
    "}\n",
    "\n",
    "train['Cabin_clean'] = train['Cabin'].str[:1]\n",
    "train['Cabin_clean'] = train['Cabin_clean'].map(mapping)\n",
    "train['Cabin_clean'] = train.groupby('Pclass')['Cabin_clean'].transform('median')\n",
    "\n",
    "test['Cabin_clean'] = test['Cabin'].str[:1]\n",
    "test['Cabin_clean'] = test['Cabin_clean'].map(mapping)\n",
    "test['Cabin_clean'] = test.groupby('Pclass')['Cabin_clean'].transform('median')\n",
    "\n",
    "train['Cabin_clean'].value_counts()"
   ]
  },
  {
   "cell_type": "code",
   "execution_count": 35,
   "id": "274cbcb3",
   "metadata": {
    "execution": {
     "iopub.execute_input": "2023-06-08T02:35:53.944204Z",
     "iopub.status.busy": "2023-06-08T02:35:53.943772Z",
     "iopub.status.idle": "2023-06-08T02:35:53.974840Z",
     "shell.execute_reply": "2023-06-08T02:35:53.973677Z"
    },
    "papermill": {
     "duration": 0.053757,
     "end_time": "2023-06-08T02:35:53.977300",
     "exception": false,
     "start_time": "2023-06-08T02:35:53.923543",
     "status": "completed"
    },
    "tags": []
   },
   "outputs": [
    {
     "data": {
      "text/html": [
       "<div>\n",
       "<style scoped>\n",
       "    .dataframe tbody tr th:only-of-type {\n",
       "        vertical-align: middle;\n",
       "    }\n",
       "\n",
       "    .dataframe tbody tr th {\n",
       "        vertical-align: top;\n",
       "    }\n",
       "\n",
       "    .dataframe thead th {\n",
       "        text-align: right;\n",
       "    }\n",
       "</style>\n",
       "<table border=\"1\" class=\"dataframe\">\n",
       "  <thead>\n",
       "    <tr style=\"text-align: right;\">\n",
       "      <th></th>\n",
       "      <th>PassengerId</th>\n",
       "      <th>Pclass</th>\n",
       "      <th>Name</th>\n",
       "      <th>Sex</th>\n",
       "      <th>Age</th>\n",
       "      <th>SibSp</th>\n",
       "      <th>Parch</th>\n",
       "      <th>Ticket</th>\n",
       "      <th>Fare</th>\n",
       "      <th>Cabin</th>\n",
       "      <th>...</th>\n",
       "      <th>Sex_clean</th>\n",
       "      <th>Embarked_clean</th>\n",
       "      <th>Family</th>\n",
       "      <th>Solo</th>\n",
       "      <th>FareBin</th>\n",
       "      <th>Fare_clean</th>\n",
       "      <th>Title</th>\n",
       "      <th>Title_clean</th>\n",
       "      <th>Age_clean</th>\n",
       "      <th>Cabin_clean</th>\n",
       "    </tr>\n",
       "  </thead>\n",
       "  <tbody>\n",
       "    <tr>\n",
       "      <th>0</th>\n",
       "      <td>892</td>\n",
       "      <td>3</td>\n",
       "      <td>Kelly, Mr. James</td>\n",
       "      <td>male</td>\n",
       "      <td>34.5</td>\n",
       "      <td>0</td>\n",
       "      <td>0</td>\n",
       "      <td>330911</td>\n",
       "      <td>7.8292</td>\n",
       "      <td>NaN</td>\n",
       "      <td>...</td>\n",
       "      <td>1</td>\n",
       "      <td>1</td>\n",
       "      <td>1</td>\n",
       "      <td>True</td>\n",
       "      <td>(7.796, 11.342]</td>\n",
       "      <td>1</td>\n",
       "      <td>Mr</td>\n",
       "      <td>2</td>\n",
       "      <td>5.0</td>\n",
       "      <td>5.0</td>\n",
       "    </tr>\n",
       "    <tr>\n",
       "      <th>1</th>\n",
       "      <td>893</td>\n",
       "      <td>3</td>\n",
       "      <td>Wilkes, Mrs. James (Ellen Needs)</td>\n",
       "      <td>female</td>\n",
       "      <td>47.0</td>\n",
       "      <td>1</td>\n",
       "      <td>0</td>\n",
       "      <td>363272</td>\n",
       "      <td>7.0000</td>\n",
       "      <td>NaN</td>\n",
       "      <td>...</td>\n",
       "      <td>0</td>\n",
       "      <td>2</td>\n",
       "      <td>2</td>\n",
       "      <td>False</td>\n",
       "      <td>(-0.001, 7.796]</td>\n",
       "      <td>0</td>\n",
       "      <td>Mrs</td>\n",
       "      <td>3</td>\n",
       "      <td>8.0</td>\n",
       "      <td>5.0</td>\n",
       "    </tr>\n",
       "    <tr>\n",
       "      <th>2</th>\n",
       "      <td>894</td>\n",
       "      <td>2</td>\n",
       "      <td>Myles, Mr. Thomas Francis</td>\n",
       "      <td>male</td>\n",
       "      <td>62.0</td>\n",
       "      <td>0</td>\n",
       "      <td>0</td>\n",
       "      <td>240276</td>\n",
       "      <td>9.6875</td>\n",
       "      <td>NaN</td>\n",
       "      <td>...</td>\n",
       "      <td>1</td>\n",
       "      <td>1</td>\n",
       "      <td>1</td>\n",
       "      <td>True</td>\n",
       "      <td>(7.796, 11.342]</td>\n",
       "      <td>1</td>\n",
       "      <td>Mr</td>\n",
       "      <td>2</td>\n",
       "      <td>10.0</td>\n",
       "      <td>5.0</td>\n",
       "    </tr>\n",
       "    <tr>\n",
       "      <th>3</th>\n",
       "      <td>895</td>\n",
       "      <td>3</td>\n",
       "      <td>Wirz, Mr. Albert</td>\n",
       "      <td>male</td>\n",
       "      <td>27.0</td>\n",
       "      <td>0</td>\n",
       "      <td>0</td>\n",
       "      <td>315154</td>\n",
       "      <td>8.6625</td>\n",
       "      <td>NaN</td>\n",
       "      <td>...</td>\n",
       "      <td>1</td>\n",
       "      <td>2</td>\n",
       "      <td>1</td>\n",
       "      <td>True</td>\n",
       "      <td>(7.796, 11.342]</td>\n",
       "      <td>1</td>\n",
       "      <td>Mr</td>\n",
       "      <td>2</td>\n",
       "      <td>4.0</td>\n",
       "      <td>5.0</td>\n",
       "    </tr>\n",
       "    <tr>\n",
       "      <th>4</th>\n",
       "      <td>896</td>\n",
       "      <td>3</td>\n",
       "      <td>Hirvonen, Mrs. Alexander (Helga E Lindqvist)</td>\n",
       "      <td>female</td>\n",
       "      <td>22.0</td>\n",
       "      <td>1</td>\n",
       "      <td>1</td>\n",
       "      <td>3101298</td>\n",
       "      <td>12.2875</td>\n",
       "      <td>NaN</td>\n",
       "      <td>...</td>\n",
       "      <td>0</td>\n",
       "      <td>2</td>\n",
       "      <td>3</td>\n",
       "      <td>False</td>\n",
       "      <td>(11.342, 21.679]</td>\n",
       "      <td>2</td>\n",
       "      <td>Mrs</td>\n",
       "      <td>3</td>\n",
       "      <td>3.0</td>\n",
       "      <td>5.0</td>\n",
       "    </tr>\n",
       "  </tbody>\n",
       "</table>\n",
       "<p>5 rows × 21 columns</p>\n",
       "</div>"
      ],
      "text/plain": [
       "   PassengerId  Pclass                                          Name     Sex  \\\n",
       "0          892       3                              Kelly, Mr. James    male   \n",
       "1          893       3              Wilkes, Mrs. James (Ellen Needs)  female   \n",
       "2          894       2                     Myles, Mr. Thomas Francis    male   \n",
       "3          895       3                              Wirz, Mr. Albert    male   \n",
       "4          896       3  Hirvonen, Mrs. Alexander (Helga E Lindqvist)  female   \n",
       "\n",
       "    Age  SibSp  Parch   Ticket     Fare Cabin  ... Sex_clean  Embarked_clean  \\\n",
       "0  34.5      0      0   330911   7.8292   NaN  ...         1               1   \n",
       "1  47.0      1      0   363272   7.0000   NaN  ...         0               2   \n",
       "2  62.0      0      0   240276   9.6875   NaN  ...         1               1   \n",
       "3  27.0      0      0   315154   8.6625   NaN  ...         1               2   \n",
       "4  22.0      1      1  3101298  12.2875   NaN  ...         0               2   \n",
       "\n",
       "   Family   Solo           FareBin Fare_clean  Title Title_clean  Age_clean  \\\n",
       "0       1   True   (7.796, 11.342]          1     Mr           2        5.0   \n",
       "1       2  False   (-0.001, 7.796]          0    Mrs           3        8.0   \n",
       "2       1   True   (7.796, 11.342]          1     Mr           2       10.0   \n",
       "3       1   True   (7.796, 11.342]          1     Mr           2        4.0   \n",
       "4       3  False  (11.342, 21.679]          2    Mrs           3        3.0   \n",
       "\n",
       "   Cabin_clean  \n",
       "0          5.0  \n",
       "1          5.0  \n",
       "2          5.0  \n",
       "3          5.0  \n",
       "4          5.0  \n",
       "\n",
       "[5 rows x 21 columns]"
      ]
     },
     "execution_count": 35,
     "metadata": {},
     "output_type": "execute_result"
    }
   ],
   "source": [
    "test.head()"
   ]
  },
  {
   "cell_type": "code",
   "execution_count": 36,
   "id": "629689e3",
   "metadata": {
    "execution": {
     "iopub.execute_input": "2023-06-08T02:35:54.017995Z",
     "iopub.status.busy": "2023-06-08T02:35:54.017545Z",
     "iopub.status.idle": "2023-06-08T02:35:54.027793Z",
     "shell.execute_reply": "2023-06-08T02:35:54.026815Z"
    },
    "papermill": {
     "duration": 0.032811,
     "end_time": "2023-06-08T02:35:54.029880",
     "exception": false,
     "start_time": "2023-06-08T02:35:53.997069",
     "status": "completed"
    },
    "tags": []
   },
   "outputs": [
    {
     "data": {
      "text/plain": [
       "5.0    311\n",
       "2.0    107\n",
       "Name: Cabin_clean, dtype: int64"
      ]
     },
     "execution_count": 36,
     "metadata": {},
     "output_type": "execute_result"
    }
   ],
   "source": [
    "test['Cabin_clean'].value_counts()"
   ]
  },
  {
   "cell_type": "code",
   "execution_count": 37,
   "id": "da625e97",
   "metadata": {
    "execution": {
     "iopub.execute_input": "2023-06-08T02:35:54.070409Z",
     "iopub.status.busy": "2023-06-08T02:35:54.069221Z",
     "iopub.status.idle": "2023-06-08T02:35:54.075850Z",
     "shell.execute_reply": "2023-06-08T02:35:54.074672Z"
    },
    "papermill": {
     "duration": 0.029754,
     "end_time": "2023-06-08T02:35:54.078627",
     "exception": false,
     "start_time": "2023-06-08T02:35:54.048873",
     "status": "completed"
    },
    "tags": []
   },
   "outputs": [],
   "source": [
    "feature = [\n",
    "    'Pclass',\n",
    "    'SibSp',\n",
    "    'Parch',\n",
    "    'Sex_clean',\n",
    "    'Embarked_clean',\n",
    "    'Family',\n",
    "    'Solo',\n",
    "    'Title_clean',\n",
    "    'Age_clean',\n",
    "    'Cabin_clean',\n",
    "    'Fare_clean',\n",
    "]\n",
    "\n",
    "label = [\n",
    "    'Survived',\n",
    "]"
   ]
  },
  {
   "cell_type": "code",
   "execution_count": 38,
   "id": "9c8e319e",
   "metadata": {
    "execution": {
     "iopub.execute_input": "2023-06-08T02:35:54.118633Z",
     "iopub.status.busy": "2023-06-08T02:35:54.118201Z",
     "iopub.status.idle": "2023-06-08T02:35:54.132110Z",
     "shell.execute_reply": "2023-06-08T02:35:54.130659Z"
    },
    "papermill": {
     "duration": 0.037462,
     "end_time": "2023-06-08T02:35:54.135142",
     "exception": false,
     "start_time": "2023-06-08T02:35:54.097680",
     "status": "completed"
    },
    "tags": []
   },
   "outputs": [],
   "source": [
    "train_data = train[feature]\n",
    "train_target = train[label]\n",
    "\n",
    "test_data = test[feature]\n",
    "test_target = submission[label]"
   ]
  },
  {
   "cell_type": "code",
   "execution_count": 39,
   "id": "dc5d5250",
   "metadata": {
    "execution": {
     "iopub.execute_input": "2023-06-08T02:35:54.178192Z",
     "iopub.status.busy": "2023-06-08T02:35:54.177754Z",
     "iopub.status.idle": "2023-06-08T02:35:55.184996Z",
     "shell.execute_reply": "2023-06-08T02:35:55.183269Z"
    },
    "papermill": {
     "duration": 1.032551,
     "end_time": "2023-06-08T02:35:55.188280",
     "exception": false,
     "start_time": "2023-06-08T02:35:54.155729",
     "status": "completed"
    },
    "tags": []
   },
   "outputs": [],
   "source": [
    "from sklearn.tree import DecisionTreeClassifier\n",
    "from sklearn.ensemble import RandomForestClassifier\n",
    "from sklearn.naive_bayes import GaussianNB\n",
    "from sklearn.neighbors import KNeighborsClassifier\n",
    "from sklearn.model_selection import train_test_split,cross_val_score,StratifiedKFold\n",
    "from sklearn.ensemble import AdaBoostClassifier\n",
    "from sklearn.discriminant_analysis import QuadraticDiscriminantAnalysis\n",
    "from sklearn.svm import SVC\n",
    "from sklearn.ensemble import VotingClassifier\n",
    "from sklearn.ensemble import BaggingClassifier\n",
    "import warnings\n",
    "warnings.filterwarnings(\"ignore\")\n",
    "from xgboost import XGBClassifier\n",
    "\n",
    "clf1 = AdaBoostClassifier()\n",
    "clf2 = RandomForestClassifier()\n",
    "clf3 = SVC(kernel = 'linear')\n",
    "\n"
   ]
  },
  {
   "cell_type": "code",
   "execution_count": 40,
   "id": "f86f0c4f",
   "metadata": {
    "execution": {
     "iopub.execute_input": "2023-06-08T02:35:55.228270Z",
     "iopub.status.busy": "2023-06-08T02:35:55.227838Z",
     "iopub.status.idle": "2023-06-08T02:37:05.648999Z",
     "shell.execute_reply": "2023-06-08T02:37:05.647985Z"
    },
    "papermill": {
     "duration": 70.44456,
     "end_time": "2023-06-08T02:37:05.651889",
     "exception": false,
     "start_time": "2023-06-08T02:35:55.207329",
     "status": "completed"
    },
    "tags": []
   },
   "outputs": [
    {
     "name": "stdout",
     "output_type": "stream",
     "text": [
      "0.8608305274971941\n",
      "0.9019138755980861\n"
     ]
    }
   ],
   "source": [
    "from sklearn.model_selection import KFold, cross_val_score\n",
    "from sklearn.ensemble import RandomForestClassifier\n",
    "from sklearn.preprocessing import PolynomialFeatures\n",
    "poly = PolynomialFeatures(include_bias = False)\n",
    "\n",
    "\n",
    "clf = BaggingClassifier(base_estimator=clf1,n_estimators=300,random_state=0)\n",
    "\n",
    "poly.fit(train_data)\n",
    "train_poly = poly.transform(train_data)\n",
    "clf.fit(train_poly, train_target)\n",
    "print(clf.score(train_poly, train_target))\n",
    "\n",
    "test_poly = poly.transform(test_data)\n",
    "print(clf.score(test_poly, test_target))\n",
    "a = clf.predict(test_poly)\n",
    "a = np.reshape(a, (418,1))\n",
    "\n",
    "\n",
    "submission['Survived'] = a\n",
    "submission.to_csv('titanic-submission.csv',index=False)\n"
   ]
  }
 ],
 "metadata": {
  "kernelspec": {
   "display_name": "Python 3",
   "language": "python",
   "name": "python3"
  },
  "language_info": {
   "codemirror_mode": {
    "name": "ipython",
    "version": 3
   },
   "file_extension": ".py",
   "mimetype": "text/x-python",
   "name": "python",
   "nbconvert_exporter": "python",
   "pygments_lexer": "ipython3",
   "version": "3.10.10"
  },
  "papermill": {
   "default_parameters": {},
   "duration": 91.674877,
   "end_time": "2023-06-08T02:37:06.795714",
   "environment_variables": {},
   "exception": null,
   "input_path": "__notebook__.ipynb",
   "output_path": "__notebook__.ipynb",
   "parameters": {},
   "start_time": "2023-06-08T02:35:35.120837",
   "version": "2.4.0"
  }
 },
 "nbformat": 4,
 "nbformat_minor": 5
}
